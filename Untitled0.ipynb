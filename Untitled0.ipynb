{
  "nbformat": 4,
  "nbformat_minor": 0,
  "metadata": {
    "colab": {
      "provenance": [],
      "include_colab_link": true
    },
    "kernelspec": {
      "name": "python3",
      "display_name": "Python 3"
    },
    "language_info": {
      "name": "python"
    }
  },
  "cells": [
    {
      "cell_type": "markdown",
      "metadata": {
        "id": "view-in-github",
        "colab_type": "text"
      },
      "source": [
        "<a href=\"https://colab.research.google.com/github/Matimolinari/ProyectoFinal-Molinari-Nebot/blob/master/Untitled0.ipynb\" target=\"_parent\"><img src=\"https://colab.research.google.com/assets/colab-badge.svg\" alt=\"Open In Colab\"/></a>"
      ]
    },
    {
      "cell_type": "code",
      "execution_count": 14,
      "metadata": {
        "id": "p0sSCbWrem7y"
      },
      "outputs": [],
      "source": [
        "import numpy as np"
      ]
    },
    {
      "cell_type": "code",
      "source": [
        "\n",
        "valores = [200,225,232,221,243,256,255]\n",
        "dias = [\"lunes\" , \"martes\" , \"miercoles\", \"jueves\" , \"viernes\" , \"sabado\" ,\"domingo\"]\n",
        "\n"
      ],
      "metadata": {
        "id": "IjoU9YvIe8eY"
      },
      "execution_count": 15,
      "outputs": []
    },
    {
      "cell_type": "code",
      "source": [
        "dif = np.diff(valores , n=1)\n",
        "dif\n"
      ],
      "metadata": {
        "id": "-_-mmT77iLDt",
        "outputId": "6631c3ef-639c-44df-84cb-123307ddf736",
        "colab": {
          "base_uri": "https://localhost:8080/"
        }
      },
      "execution_count": 16,
      "outputs": [
        {
          "output_type": "execute_result",
          "data": {
            "text/plain": [
              "array([ 25,   7, -11,  22,  13,  -1])"
            ]
          },
          "metadata": {},
          "execution_count": 16
        }
      ]
    },
    {
      "cell_type": "code",
      "source": [
        "#Precios diarios accion AAPL de la semana pasada\n",
        "\n",
        "for x,y in zip(dias, valores):\n",
        "  print(x,y)"
      ],
      "metadata": {
        "id": "78KrlegSiSRA",
        "outputId": "899bdde0-649d-41b8-8e99-dd1b4408821c",
        "colab": {
          "base_uri": "https://localhost:8080/"
        }
      },
      "execution_count": 19,
      "outputs": [
        {
          "output_type": "stream",
          "name": "stdout",
          "text": [
            "lunes 200\n",
            "martes 225\n",
            "miercoles 232\n",
            "jueves 221\n",
            "viernes 243\n",
            "sabado 256\n",
            "domingo 255\n"
          ]
        }
      ]
    },
    {
      "cell_type": "markdown",
      "source": [
        "Consigna: Se tiene una lista con Valores= [200, 225, 232, 221, 243, 256, 255] que representan los precios de una acción de la compañía X la semana pasada (cada dato representa el promedio diario)\n",
        "Escribir el código para calcular los días de la semana donde hubo un retroceso respecto al día anterior en el valor de la acción de la compañía X.\n",
        "\n",
        "\n"
      ],
      "metadata": {
        "id": "fEe2ojPpeqmX"
      }
    },
    {
      "cell_type": "code",
      "source": [
        "for x,y in zip(dias[1:], dif):\n",
        "  if (x!= \"lunes\") & (y<0):\n",
        "    print(x,y)"
      ],
      "metadata": {
        "id": "2tRnYGyQj4_C",
        "outputId": "ee1355c0-3a81-4217-9361-07bfaf82f000",
        "colab": {
          "base_uri": "https://localhost:8080/"
        }
      },
      "execution_count": 24,
      "outputs": [
        {
          "output_type": "stream",
          "name": "stdout",
          "text": [
            "jueves -11\n",
            "domingo -1\n"
          ]
        }
      ]
    }
  ]
}